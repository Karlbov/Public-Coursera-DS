{
 "cells": [
  {
   "cell_type": "markdown",
   "id": "2c201373-ee3c-4391-bd9e-443311c07338",
   "metadata": {},
   "source": [
    "## Data Science Tools and Ecosystem"
   ]
  },
  {
   "cell_type": "markdown",
   "id": "7ac1336b-c6d3-4166-983f-da7abc786190",
   "metadata": {},
   "source": [
    "In this notebook, Data Science Tools and Ecosystems are summerised. "
   ]
  },
  {
   "attachments": {},
   "cell_type": "markdown",
   "id": "8ef86a1f-41c9-4137-9e62-bc074b4a8610",
   "metadata": {},
   "source": [
    "Some of the Popular languages that Data Scientists use are"
   ]
  },
  {
   "cell_type": "code",
   "execution_count": null,
   "id": "0ab653f9-0c21-4e2e-9594-b139487509f2",
   "metadata": {},
   "outputs": [],
   "source": []
  },
  {
   "cell_type": "markdown",
   "id": "7327072c-96de-45b0-ba78-889cf4e81c41",
   "metadata": {},
   "source": [
    "1. Python\n",
    "2. R\n",
    "3. Scala\n",
    "4. SQL\n",
    "5. Java\n",
    "6. C++\n",
    "7. Julia"
   ]
  },
  {
   "cell_type": "markdown",
   "id": "3b3be755-ed60-415b-bfd1-b28eb813097e",
   "metadata": {},
   "source": [
    "Some of the commonly used libraies used by Data Scientists include : \n",
    "\n",
    "1. Panda\n",
    "2. NumPy\n",
    "3. Mathplotlib\n",
    "4. Seaborn\n",
    "5. Scikit-Learn"
   ]
  },
  {
   "cell_type": "markdown",
   "id": "1293e5dc-ca35-4ab2-a3b3-53db7690cc99",
   "metadata": {},
   "source": [
    "|Data Science Tools|\n",
    "|--------|\n",
    "|Spyder|\n",
    "|Rstudio|\n",
    "|Anaconda|"
   ]
  },
  {
   "cell_type": "markdown",
   "id": "35b19565-dcff-4e08-9688-5c2ba6bf379a",
   "metadata": {},
   "source": [
    "#### Below are a few examples of evaluating arithmetic expressions in python."
   ]
  },
  {
   "cell_type": "code",
   "execution_count": 1,
   "id": "740d938d-4c6f-4790-9750-e11542c53ede",
   "metadata": {},
   "outputs": [
    {
     "data": {
      "text/plain": [
       "17"
      ]
     },
     "execution_count": 1,
     "metadata": {},
     "output_type": "execute_result"
    }
   ],
   "source": [
    "# This is a simple arithmetic expression to multiply then add integers\n",
    "(3*4)+5"
   ]
  },
  {
   "cell_type": "code",
   "execution_count": 2,
   "id": "dc3f711c-e299-425a-a01b-d71e9f8e566e",
   "metadata": {},
   "outputs": [
    {
     "data": {
      "text/plain": [
       "3.3333333333333335"
      ]
     },
     "execution_count": 2,
     "metadata": {},
     "output_type": "execute_result"
    }
   ],
   "source": [
    "# This will convert 200 minutes to hours by dividing by 60\n",
    "200/60\n"
   ]
  },
  {
   "cell_type": "markdown",
   "id": "85578e79-a3a0-48fe-a754-e432e4c1fe51",
   "metadata": {},
   "source": [
    "__Objectives :__\n",
    "\n",
    "- Learn the basics of Data Management\n",
    "- List the different types of Databases\n",
    "- Know the differences between SQL and NoSQL databases\n",
    "- List the main Data Management Systems\n",
    "- Learn the main programming languages used in Data Science.\n",
    "- Review the basics of Python and R\n",
    "- Learn about Jupyter notebooks and how to use them"
   ]
  },
  {
   "cell_type": "code",
   "execution_count": null,
   "id": "3811c216-a1b2-46d7-ae95-e1e6064806d3",
   "metadata": {},
   "outputs": [],
   "source": [
    "\n"
   ]
  },
  {
   "cell_type": "markdown",
   "id": "c0e0a36b-118a-4cf9-861f-f1e86f8f4da1",
   "metadata": {},
   "source": [
    "### Author\n",
    "Karl Bovenizer"
   ]
  },
  {
   "cell_type": "code",
   "execution_count": null,
   "id": "8bbe4839-c669-4e25-bdb7-8cbcb2f5ad4f",
   "metadata": {},
   "outputs": [],
   "source": []
  }
 ],
 "metadata": {
  "kernelspec": {
   "display_name": "Python 3 (ipykernel)",
   "language": "python",
   "name": "python3"
  },
  "language_info": {
   "codemirror_mode": {
    "name": "ipython",
    "version": 3
   },
   "file_extension": ".py",
   "mimetype": "text/x-python",
   "name": "python",
   "nbconvert_exporter": "python",
   "pygments_lexer": "ipython3",
   "version": "3.12.8"
  }
 },
 "nbformat": 4,
 "nbformat_minor": 5
}
